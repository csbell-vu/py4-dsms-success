{
  "cells": [
    {
      "cell_type": "markdown",
      "metadata": {
        "id": "view-in-github",
        "colab_type": "text"
      },
      "source": [
        "<a href=\"https://colab.research.google.com/github/csbell-vu/py4-dsms-success/blob/main/5-select-filter-mutate.ipynb\" target=\"_parent\"><img src=\"https://colab.research.google.com/assets/colab-badge.svg\" alt=\"Open In Colab\"/></a>"
      ]
    },
    {
      "cell_type": "markdown",
      "metadata": {
        "id": "HhNbKwzMN7se"
      },
      "source": [
        "*This notebook is based on an excerpt from the [Python Data Science Handbook](http://shop.oreilly.com/product/0636920034919.do) by Jake VanderPlas; the content is available [on GitHub](https://github.com/jakevdp/PythonDataScienceHandbook).*\n",
        "\n",
        "*The text is released under the [CC-BY-NC-ND license](https://creativecommons.org/licenses/by-nc-nd/3.0/us/legalcode), and code is released under the [MIT license](https://opensource.org/licenses/MIT). If you find this content useful, please consider supporting the work by [buying the book](http://shop.oreilly.com/product/0636920034919.do)!*"
      ]
    },
    {
      "cell_type": "markdown",
      "metadata": {
        "id": "PELFdkFTN7si"
      },
      "source": [
        "# Data Indexing and Selection"
      ]
    },
    {
      "cell_type": "markdown",
      "metadata": {
        "id": "v1nu2KZRN7si"
      },
      "source": [
        "Here we'll look at similar means of accessing and modifying values in Pandas ``Series`` and ``DataFrame`` objects.\n",
        "If you have used the NumPy patterns, the corresponding patterns in Pandas will feel very familiar, though there are a few quirks to be aware of.\n",
        "\n",
        "We'll start with the more salient case of the `DataFrame` and move onto the simpler case of the `Series`."
      ]
    },
    {
      "cell_type": "code",
      "execution_count": null,
      "metadata": {
        "id": "izudRYIKN7sj"
      },
      "outputs": [],
      "source": [
        "import pandas as pd\n",
        "import numpy as np"
      ]
    },
    {
      "cell_type": "markdown",
      "metadata": {
        "id": "idddCT_vN7sk"
      },
      "source": [
        "## Data Selection in DataFrame\n",
        "\n",
        "Recall that a ``DataFrame`` acts in many ways like a two-dimensional, structured array, or matrix.  You can think of each row as indicated by its index (explicitly or implicitly named) and its column index (also explicitly or implicitly named)."
      ]
    },
    {
      "cell_type": "markdown",
      "metadata": {
        "id": "FOdZI3qFN7sl"
      },
      "source": [
        "### Accessing a single column\n",
        "\n",
        "The first analogy we will consider is the ``DataFrame`` as a dictionary of related ``Series`` objects.\n",
        "Let's return to our example of areas and populations of states:"
      ]
    },
    {
      "cell_type": "code",
      "execution_count": null,
      "metadata": {
        "id": "cOZ0i49NN7sm"
      },
      "outputs": [],
      "source": [
        "data = pd.read_csv('https://raw.githubusercontent.com/allisonhorst/palmerpenguins/master/inst/extdata/penguins.csv')\n"
      ]
    },
    {
      "cell_type": "markdown",
      "metadata": {
        "id": "pQ1vKBLeN7sn"
      },
      "source": [
        "The individual ``Series`` that make up the columns of the ``DataFrame`` can be accessed via dictionary-style indexing of the column name:"
      ]
    },
    {
      "cell_type": "code",
      "execution_count": null,
      "metadata": {
        "id": "bnoJcL_SN7sp"
      },
      "outputs": [],
      "source": [
        "# access by dictionary-style indexing\n"
      ]
    },
    {
      "cell_type": "markdown",
      "metadata": {
        "id": "e3823qDMN7ss"
      },
      "source": [
        "In particular, you should avoid the temptation to try column assignment via attribute (i.e., use ``data['pop'] = z`` rather than ``data.pop = z``).\n",
        "\n",
        "Some vectorized operations can be completed as well - applying to all of the elements of the selected column."
      ]
    },
    {
      "cell_type": "code",
      "execution_count": null,
      "metadata": {
        "id": "tdBmCpu-N7st"
      },
      "outputs": [],
      "source": [
        ""
      ]
    },
    {
      "cell_type": "markdown",
      "metadata": {
        "id": "XZp-EmfDN7st"
      },
      "source": [
        "**Memory check:** What was that operation called in the tidyverse that added a column to your data?  Does this look like a similar operation?"
      ]
    },
    {
      "cell_type": "markdown",
      "metadata": {
        "id": "6QeUxg3tN7st"
      },
      "source": [
        "### Accessing as row, column: `loc` and `iloc`\n",
        "\n",
        "As mentioned previously, we can also view the ``DataFrame`` as an enhanced two-dimensional array.\n",
        "We can examine the raw underlying data array using the ``values`` attribute:"
      ]
    },
    {
      "cell_type": "code",
      "execution_count": null,
      "metadata": {
        "id": "W6hWjgZzN7st"
      },
      "outputs": [],
      "source": [
        "# get underlying values as numpy array\n"
      ]
    },
    {
      "cell_type": "markdown",
      "metadata": {
        "id": "hIUiLSNSN7su"
      },
      "source": [
        "For array-style indexing, we need another convention.\n",
        "Here Pandas again uses the ``loc`` and ``iloc`` indexers.  **Recall that in our previous exploration of series, explicit indices can be numerical, convoluting whether you're selecting by implicit or explicit index.  These two methods can disambiguate the approach.**"
      ]
    },
    {
      "cell_type": "markdown",
      "metadata": {
        "id": "KMlxzd69N7su"
      },
      "source": [
        "### `iloc`\n",
        "Think of `iloc` as a reference to the _integer_ location, or _implicit_ index, or by position.  Using the ``iloc`` indexer, we can index the underlying array and the ``DataFrame`` index and column labels are maintained in the result.  The indexer expects the row position followed by the column position."
      ]
    },
    {
      "cell_type": "code",
      "execution_count": null,
      "metadata": {
        "id": "mJH2gifhN7su"
      },
      "outputs": [],
      "source": [
        ""
      ]
    },
    {
      "cell_type": "code",
      "execution_count": null,
      "metadata": {
        "id": "sEGlHUt5N7sv"
      },
      "outputs": [],
      "source": [
        "# index the Dataframe by position, row 0, column 0\n",
        "\n",
        "\n",
        "#index the dataframe; find row 0, column1\n"
      ]
    },
    {
      "cell_type": "code",
      "execution_count": null,
      "metadata": {
        "id": "NGMzxzQZN7sv"
      },
      "outputs": [],
      "source": [
        "# slice the dataframe to get the first 3 rows and the first 2 columns\n"
      ]
    },
    {
      "cell_type": "markdown",
      "metadata": {
        "id": "6l46XfrsN7sv"
      },
      "source": [
        "### `loc`"
      ]
    },
    {
      "cell_type": "markdown",
      "metadata": {
        "id": "ccPSYGkcN7sv"
      },
      "source": [
        "Similarly, using the ``loc`` indexer we can index the underlying data in an array-like style but using the _explicit index_ and column names.  Note that since this has no explicit index, we use the implicit index given to the same effect."
      ]
    },
    {
      "cell_type": "code",
      "execution_count": null,
      "metadata": {
        "id": "lYUUo_cPN7sw"
      },
      "outputs": [],
      "source": [
        "#Get the first row\n"
      ]
    },
    {
      "cell_type": "markdown",
      "metadata": {
        "id": "QQ9BW2ZyN7sw"
      },
      "source": [
        "**Question**.  We just said that these indexers require the format `[row, column]`.  However, it seems like we omitted that here.  What do you think is happening?"
      ]
    },
    {
      "cell_type": "markdown",
      "metadata": {
        "id": "GbFwh6jbN7sw"
      },
      "source": [
        "**Gotcha!** Look at how this function appears.  It looks _very_ similar to `data['species']`.  However, these behaviors are decidedly different; always remember that `.loc` will expect a _row index_ as the first parameter in the bracket, whereas dictionary-like key-value lookup will expect a column index.  "
      ]
    },
    {
      "cell_type": "code",
      "execution_count": null,
      "metadata": {
        "id": "B5AY1CXYN7sw"
      },
      "outputs": [],
      "source": [
        "# Try to use loc to just access the column\n"
      ]
    },
    {
      "cell_type": "code",
      "execution_count": null,
      "metadata": {
        "id": "1vkAcsjJN7sw"
      },
      "outputs": [],
      "source": [
        "# Correctly use loc to access the column\n"
      ]
    },
    {
      "cell_type": "code",
      "execution_count": null,
      "metadata": {
        "id": "_WJnEtVnN7sx"
      },
      "outputs": [],
      "source": [
        "# Can also slice\n",
        "#explicit indices include the endpoint"
      ]
    },
    {
      "cell_type": "markdown",
      "metadata": {
        "id": "D8AwOhdRN7sx"
      },
      "source": [
        "### Try it yourself!!\n",
        "Using the `data` dataframe above, try to do the following selections:\n",
        "1. Select the `bill_depth_mm` column using `iloc`, `loc`, and dictionary indexing.\n",
        "2. Select only the 1 and 5 rows with all columns.\n",
        "3. Select the `species` and `island` columns with all rows.\n",
        "4. Select rows 2, 4, and 6 years.\n",
        "5. **Bonus**: Repeat #4, but reverse the order (e.g., dataframe returned should have order 6, 4, 2)\n",
        "\n",
        "**HINT**: When trying to select multiple indices, you can pass in a list of indices (e.g., `data.loc[['John', 'Raheim'], :]`)"
      ]
    },
    {
      "cell_type": "code",
      "execution_count": null,
      "metadata": {
        "id": "PGR4xcWAN7sx"
      },
      "outputs": [],
      "source": [
        "# Answer to 1\n"
      ]
    },
    {
      "cell_type": "code",
      "execution_count": null,
      "metadata": {
        "id": "1mv-l1TtN7sx"
      },
      "outputs": [],
      "source": [
        "#Answer to 2\n"
      ]
    },
    {
      "cell_type": "code",
      "execution_count": null,
      "metadata": {
        "id": "xmv55GzgN7sx"
      },
      "outputs": [],
      "source": [
        "#Answer to 3\n"
      ]
    },
    {
      "cell_type": "code",
      "execution_count": null,
      "metadata": {
        "id": "XNS0S3F3N7sy"
      },
      "outputs": [],
      "source": [
        "#Answer to 4\n"
      ]
    },
    {
      "cell_type": "code",
      "execution_count": null,
      "metadata": {
        "id": "pB5rvKrbN7sy"
      },
      "outputs": [],
      "source": [
        "#Answer to 5\n"
      ]
    },
    {
      "cell_type": "markdown",
      "metadata": {
        "id": "hCp9iJ7rN7sy"
      },
      "source": [
        "### Masking and fancy indexing"
      ]
    },
    {
      "cell_type": "markdown",
      "metadata": {
        "id": "nEjMBWhjN7sy"
      },
      "source": [
        "Many different data access patterns can be used within these indexers.\n",
        "For example, in the ``loc`` indexer we can combine boolean masking and fancy indexing as in the following.  Boolean masking evaluates a certain condition on your dataset, and then returns the true/false value of this condition.  The returned dataset can then be used to filter out the `false` or `true` values.  Additionally fancy indexing can allow you to select multiple columns using a list."
      ]
    },
    {
      "cell_type": "code",
      "execution_count": null,
      "metadata": {
        "id": "L2nqmpuBN7sy"
      },
      "outputs": [],
      "source": [
        "# Look at the boolean masking result of bill_depth_mm > 17\n"
      ]
    },
    {
      "cell_type": "markdown",
      "metadata": {
        "id": "C1RtpL4hN7sz"
      },
      "source": [
        "**Question**: How big is this dataframe?  What's up with the indices?"
      ]
    },
    {
      "cell_type": "code",
      "execution_count": null,
      "metadata": {
        "id": "0zPSWSiXN7sz"
      },
      "outputs": [],
      "source": [
        "# Only look at selected columns - island and body_mass_g\n"
      ]
    },
    {
      "cell_type": "code",
      "execution_count": null,
      "metadata": {
        "id": "JruW7dKON7sz"
      },
      "outputs": [],
      "source": [
        "# Look at all rows that aren't index 0 (this is valuable when you have indices that are non-unique)\n"
      ]
    },
    {
      "cell_type": "code",
      "execution_count": null,
      "metadata": {
        "id": "Aj694C-QN7sz"
      },
      "outputs": [],
      "source": [
        "# Find all the columns that aren't species\n"
      ]
    },
    {
      "cell_type": "markdown",
      "metadata": {
        "id": "Ksb34YvJN7sz"
      },
      "source": [
        "Any of these indexing conventions may also be used to set or modify values; this is done in the standard way that you might be accustomed to from working with NumPy:"
      ]
    },
    {
      "cell_type": "code",
      "execution_count": null,
      "metadata": {
        "id": "VO7bmeo8N7sz"
      },
      "outputs": [],
      "source": [
        "# You can also use these selections to set values too\n"
      ]
    },
    {
      "cell_type": "markdown",
      "metadata": {
        "id": "1kdgiSJzN7s0"
      },
      "source": [
        "To build up your fluency in Pandas data manipulation, I suggest spending some time with a simple ``DataFrame`` and exploring the types of indexing, slicing, masking, and fancy indexing that are allowed by these various indexing approaches."
      ]
    },
    {
      "cell_type": "markdown",
      "metadata": {
        "id": "BbaJa63jN7s0"
      },
      "source": [
        "### Try it yourself!!\n",
        "Using the dataframe `work_data` below, answer the following questions:\n",
        "1. Which penguins have bill depth > 20mm?  _How many_ penguins have bill depth > 20mm?\n",
        "2. What are the species of the penguins which have bill depth > 20?  (Find the penguins that have bill depth greater than 20 and then return only the species column)\n",
        "3. Which penguins have bill depth between 18 and 19mm?  What are their corresponding body masses?  **Hints**:  (1) `&` is the `and` operator compatible with Pandas Series.  (2) Remember operator precedence and how parentheses can help with that!\n",
        "4. **Bonus**: Which penguins have body masses within 100 grams of the median body mass?  **Hint**: use `np.median`"
      ]
    },
    {
      "cell_type": "code",
      "execution_count": null,
      "metadata": {
        "id": "mYvvJjAiN7s0"
      },
      "outputs": [],
      "source": [
        "# Make sure to execute this cell\n",
        "work_data = data.copy()"
      ]
    },
    {
      "cell_type": "code",
      "execution_count": null,
      "metadata": {
        "id": "l9sep_EmN7s0"
      },
      "outputs": [],
      "source": [
        "#Answer to question 1\n",
        "#res = fill in your answer here\n",
        "display(res)\n",
        "print('The total number of states with bill_depth > 20 is: {0}'.format(res.shape[0]))"
      ]
    },
    {
      "cell_type": "code",
      "execution_count": null,
      "metadata": {
        "id": "XnO4Ou4XN7s0"
      },
      "outputs": [],
      "source": [
        "#Answer to question 2\n"
      ]
    },
    {
      "cell_type": "code",
      "execution_count": null,
      "metadata": {
        "id": "9idaYL_qN7s0"
      },
      "outputs": [],
      "source": [
        "# Answer to question 3\n"
      ]
    },
    {
      "cell_type": "code",
      "execution_count": null,
      "metadata": {
        "id": "Y9t7iEhdN7s1"
      },
      "outputs": [],
      "source": [
        "# Answer to question 4\n"
      ]
    },
    {
      "cell_type": "markdown",
      "metadata": {
        "id": "mF2GzMj7N7s1"
      },
      "source": [
        "## On Pandas: Query\n",
        "As we've already seen in previous sections, the power of the PyData stack is built upon the ability of NumPy and Pandas to push basic operations into C via an intuitive syntax: examples are vectorized/broadcasted operations in NumPy, and grouping-type operations in Pandas.\n",
        "While these abstractions are efficient and effective for many common use cases, they often rely on the creation of temporary intermediate objects, which can cause undue overhead in computational time and memory use.\n",
        "\n",
        "As of version 0.13 (released January 2014), Pandas includes some experimental tools that allow you to directly access C-speed operations without costly allocation of intermediate arrays.\n",
        "These are the ``eval()`` and ``query()`` functions, which rely on the [Numexpr](https://github.com/pydata/numexpr) package.\n",
        "In this notebook we will walk through their use and give some rules-of-thumb about when you might think about using them.\n",
        "\n",
        "You can rewrite many of the above methods using strings in combination with query if they're operating on the columns of the dataframe.  This helps with speed and performance since temporary intermediate variables are not created, and also helps with readability.  Let's see how this would look below."
      ]
    },
    {
      "cell_type": "code",
      "execution_count": null,
      "metadata": {
        "id": "woSEZKGVN7s1"
      },
      "outputs": [],
      "source": [
        "# Answer to 1\n",
        "\n",
        "\n",
        "## with query\n"
      ]
    },
    {
      "cell_type": "code",
      "execution_count": null,
      "metadata": {
        "id": "MKBpnQugN7s1"
      },
      "outputs": [],
      "source": [
        "# Answer to 2\n",
        "\n",
        "\n",
        "#with query\n"
      ]
    },
    {
      "cell_type": "code",
      "execution_count": null,
      "metadata": {
        "id": "sPkUhSckN7s1"
      },
      "outputs": [],
      "source": [
        "# Answer to 3\n",
        "\n",
        "\n",
        "#with query\n"
      ]
    },
    {
      "cell_type": "code",
      "execution_count": null,
      "metadata": {
        "id": "vROhMBACN7s2"
      },
      "outputs": [],
      "source": [
        "# Answer to 4: use @ to reference variables that are not in the dataframe\n",
        "\n",
        "\n",
        "#with query\n"
      ]
    },
    {
      "cell_type": "markdown",
      "metadata": {
        "id": "SgfoSnt7N7s2"
      },
      "source": [
        "### Additional indexing conventions\n",
        "\n",
        "There are a couple extra indexing conventions that might seem at odds with the preceding discussion, but nevertheless can be very useful in practice.\n",
        "First, while *indexing* refers to columns, *slicing* refers to rows:"
      ]
    },
    {
      "cell_type": "code",
      "execution_count": null,
      "metadata": {
        "id": "rNemFPuRN7s2"
      },
      "outputs": [],
      "source": [
        "# Dictionary-like access allows you to slice on the rows\n",
        "data[0:5]"
      ]
    },
    {
      "cell_type": "markdown",
      "metadata": {
        "id": "9d6Q4bHKN7s3"
      },
      "source": [
        "Such slices can also refer to rows by number rather than by index:"
      ]
    },
    {
      "cell_type": "code",
      "execution_count": null,
      "metadata": {
        "id": "78JEoAqTN7s4"
      },
      "outputs": [],
      "source": [
        "# Dictionary-like access also allows you to slice by implicit index\n",
        "data[1:3]"
      ]
    },
    {
      "cell_type": "markdown",
      "metadata": {
        "id": "U_C4u0XIN7s4"
      },
      "source": [
        "Similarly, direct masking operations are also interpreted row-wise rather than column-wise:"
      ]
    },
    {
      "cell_type": "code",
      "execution_count": null,
      "metadata": {
        "id": "lmSrxtjkN7s4"
      },
      "outputs": [],
      "source": [
        "# Masking operations are implemented row wise\n",
        "data[data.bill_depth_mm > 20]"
      ]
    },
    {
      "cell_type": "markdown",
      "metadata": {
        "id": "-pWNuV6QN7s5"
      },
      "source": [
        "These two conventions are syntactically similar to those on a NumPy array, and while these may not precisely fit the mold of the Pandas conventions, they are nevertheless quite useful in practice."
      ]
    },
    {
      "cell_type": "markdown",
      "metadata": {
        "id": "XehB6knuN7s5"
      },
      "source": [
        "## Data Selection in Series\n",
        "\n",
        "As we saw in the previous section, a ``Series`` object acts in many ways like a one-dimensional NumPy array, and in many ways like a standard Python dictionary.\n",
        "If we keep these two overlapping analogies in mind, it will help us to understand the patterns of data indexing and selection in these arrays."
      ]
    },
    {
      "cell_type": "markdown",
      "metadata": {
        "id": "mRGveFolN7s5"
      },
      "source": [
        "### Series as dictionary\n",
        "\n",
        "Like a dictionary, the ``Series`` object provides a mapping from a collection of keys to a collection of values:"
      ]
    },
    {
      "cell_type": "code",
      "execution_count": null,
      "metadata": {
        "id": "ZX4TohojN7s5",
        "outputId": "36eb6332-067e-49f4-9426-0cc3b3e89cd8"
      },
      "outputs": [
        {
          "data": {
            "text/plain": [
              "a    0.25\n",
              "b    0.50\n",
              "c    0.75\n",
              "d    1.00\n",
              "dtype: float64"
            ]
          },
          "execution_count": null,
          "metadata": {},
          "output_type": "execute_result"
        }
      ],
      "source": [
        "#pandas series for testing\n",
        "data = pd.Series([0.25, 0.5, 0.75, 1.0],\n",
        "                 index=['a', 'b', 'c', 'd'])\n",
        "data"
      ]
    },
    {
      "cell_type": "code",
      "execution_count": null,
      "metadata": {
        "id": "AECHOT3ZN7s7",
        "outputId": "1a1e285d-1479-49eb-c375-86864768797e"
      },
      "outputs": [
        {
          "data": {
            "text/plain": [
              "0.5"
            ]
          },
          "execution_count": null,
          "metadata": {},
          "output_type": "execute_result"
        }
      ],
      "source": [
        "#access a single row\n",
        "data['b']"
      ]
    },
    {
      "cell_type": "markdown",
      "metadata": {
        "id": "slU3sDSFN7s8"
      },
      "source": [
        "We can also use dictionary-like Python expressions and methods to examine the keys/indices and values:"
      ]
    },
    {
      "cell_type": "code",
      "execution_count": null,
      "metadata": {
        "id": "dxJf9D73N7s8",
        "outputId": "e4147cc7-6db4-4ea7-cd72-a55f5035872f"
      },
      "outputs": [
        {
          "data": {
            "text/plain": [
              "True"
            ]
          },
          "execution_count": null,
          "metadata": {},
          "output_type": "execute_result"
        }
      ],
      "source": [
        "# Use python expression with Series\n",
        "'a' in data"
      ]
    },
    {
      "cell_type": "code",
      "execution_count": null,
      "metadata": {
        "id": "tUPGZ4-9N7s9",
        "outputId": "b3b93a74-d3b9-4b21-94d1-ad6305237076"
      },
      "outputs": [
        {
          "data": {
            "text/plain": [
              "Index(['a', 'b', 'c', 'd'], dtype='object')"
            ]
          },
          "execution_count": null,
          "metadata": {},
          "output_type": "execute_result"
        }
      ],
      "source": [
        "# Access the keys in a dictionary-like way\n",
        "data.keys()"
      ]
    },
    {
      "cell_type": "code",
      "execution_count": null,
      "metadata": {
        "id": "PcvJjsNRN7s9",
        "outputId": "50d8068b-6ad9-42c3-ddd4-ed2edfd39fc6"
      },
      "outputs": [
        {
          "data": {
            "text/plain": [
              "[('a', 0.25), ('b', 0.5), ('c', 0.75), ('d', 1.0)]"
            ]
          },
          "execution_count": null,
          "metadata": {},
          "output_type": "execute_result"
        }
      ],
      "source": [
        "# Access the items as sets of tuples\n",
        "list(data.items())"
      ]
    },
    {
      "cell_type": "markdown",
      "metadata": {
        "id": "P53V8krWN7s-"
      },
      "source": [
        "``Series`` objects can even be modified with a dictionary-like syntax.\n",
        "Just as you can extend a dictionary by assigning to a new key, you can extend a ``Series`` by assigning to a new index value:"
      ]
    },
    {
      "cell_type": "code",
      "execution_count": null,
      "metadata": {
        "id": "IK-d2spcN7s-",
        "outputId": "a8f64578-7a84-4d7e-d983-88ff21bd9067"
      },
      "outputs": [
        {
          "data": {
            "text/plain": [
              "a    0.25\n",
              "b    0.50\n",
              "c    0.75\n",
              "d    1.00\n",
              "e    1.25\n",
              "dtype: float64"
            ]
          },
          "execution_count": null,
          "metadata": {},
          "output_type": "execute_result"
        }
      ],
      "source": [
        "# Set values by dictionary-like syntax\n",
        "data['e'] = 1.25\n",
        "data"
      ]
    },
    {
      "cell_type": "markdown",
      "metadata": {
        "id": "mu-tlpHuN7s-"
      },
      "source": [
        "This easy mutability of the objects is a convenient feature: under the hood, Pandas is making decisions about memory layout and data copying that might need to take place; the user generally does not need to worry about these issues."
      ]
    },
    {
      "cell_type": "markdown",
      "metadata": {
        "id": "XTIB_IW4N7s-"
      },
      "source": [
        "### Series as one-dimensional array"
      ]
    },
    {
      "cell_type": "markdown",
      "metadata": {
        "id": "jsKubwxjN7s-"
      },
      "source": [
        "A ``Series`` builds on this dictionary-like interface and provides array-style item selection via the same basic mechanisms as NumPy arrays – that is, *slices*, *masking*, and *fancy indexing*.\n",
        "Examples of these are as follows:"
      ]
    },
    {
      "cell_type": "code",
      "execution_count": null,
      "metadata": {
        "id": "VrxvhAseN7s_",
        "outputId": "9f361be0-52a2-4f72-b2e9-8ae88fb0f400"
      },
      "outputs": [
        {
          "data": {
            "text/plain": [
              "a    0.25\n",
              "b    0.50\n",
              "c    0.75\n",
              "dtype: float64"
            ]
          },
          "execution_count": null,
          "metadata": {},
          "output_type": "execute_result"
        }
      ],
      "source": [
        "# slicing by explicit index\n",
        "data['a':'c']"
      ]
    },
    {
      "cell_type": "code",
      "execution_count": null,
      "metadata": {
        "id": "QAuVEOgQN7s_",
        "outputId": "1169802b-17b2-48fb-ac07-9338915589b2"
      },
      "outputs": [
        {
          "data": {
            "text/plain": [
              "a    0.25\n",
              "b    0.50\n",
              "dtype: float64"
            ]
          },
          "execution_count": null,
          "metadata": {},
          "output_type": "execute_result"
        }
      ],
      "source": [
        "# slicing by implicit integer index\n",
        "data[0:2]"
      ]
    },
    {
      "cell_type": "code",
      "execution_count": null,
      "metadata": {
        "id": "txICxEfrN7s_",
        "outputId": "83621a50-ee63-4599-95a1-56f77c976cbc"
      },
      "outputs": [
        {
          "data": {
            "text/plain": [
              "b    0.50\n",
              "c    0.75\n",
              "dtype: float64"
            ]
          },
          "execution_count": null,
          "metadata": {},
          "output_type": "execute_result"
        }
      ],
      "source": [
        "# masking\n",
        "data[(data > 0.3) & (data < 0.8)]"
      ]
    },
    {
      "cell_type": "code",
      "execution_count": null,
      "metadata": {
        "id": "fD9l3VWlN7tA",
        "outputId": "00ec1d3d-2b2a-4b21-df2e-eda7607a54d2"
      },
      "outputs": [
        {
          "data": {
            "text/plain": [
              "a    0.25\n",
              "e    1.25\n",
              "dtype: float64"
            ]
          },
          "execution_count": null,
          "metadata": {},
          "output_type": "execute_result"
        }
      ],
      "source": [
        "# fancy indexing\n",
        "data[['a', 'e']]"
      ]
    },
    {
      "cell_type": "markdown",
      "metadata": {
        "id": "MYAcK1KvN7tA"
      },
      "source": [
        "Among these, slicing may be the source of the most confusion.\n",
        "Notice that when slicing with an explicit index (i.e., ``data['a':'c']``), the final index is *included* in the slice, while when slicing with an implicit index (i.e., ``data[0:2]``), the final index is *excluded* from the slice."
      ]
    },
    {
      "cell_type": "markdown",
      "metadata": {
        "id": "x1I8-O78N7tA"
      },
      "source": [
        "### Indexers: loc, iloc, and ix\n",
        "\n",
        "These slicing and indexing conventions can be a source of confusion.\n",
        "For example, if your ``Series`` has an explicit integer index, an indexing operation such as ``data[1]`` will use the explicit indices, while a slicing operation like ``data[1:3]`` will use the implicit Python-style index."
      ]
    },
    {
      "cell_type": "code",
      "execution_count": null,
      "metadata": {
        "id": "J1X-i-Z8N7tA",
        "outputId": "950361c6-e295-43ec-f17e-218f138fd812"
      },
      "outputs": [
        {
          "data": {
            "text/plain": [
              "1    a\n",
              "3    b\n",
              "5    c\n",
              "dtype: object"
            ]
          },
          "execution_count": null,
          "metadata": {},
          "output_type": "execute_result"
        }
      ],
      "source": [
        "data = pd.Series(['a', 'b', 'c'], index=[1, 3, 5])\n",
        "data"
      ]
    },
    {
      "cell_type": "code",
      "execution_count": null,
      "metadata": {
        "id": "DJ7Q1NiMN7tA",
        "outputId": "d9f096cc-7fc8-4c3b-eba2-64f1d2ad946c"
      },
      "outputs": [
        {
          "data": {
            "text/plain": [
              "'a'"
            ]
          },
          "execution_count": null,
          "metadata": {},
          "output_type": "execute_result"
        }
      ],
      "source": [
        "# explicit index when indexing\n",
        "data[1]"
      ]
    },
    {
      "cell_type": "code",
      "execution_count": null,
      "metadata": {
        "id": "ZeOVrRUnN7tB",
        "outputId": "fc66a5e4-a233-4508-c86f-cc1800972d7a"
      },
      "outputs": [
        {
          "data": {
            "text/plain": [
              "3    b\n",
              "5    c\n",
              "dtype: object"
            ]
          },
          "execution_count": null,
          "metadata": {},
          "output_type": "execute_result"
        }
      ],
      "source": [
        "# implicit index when slicing\n",
        "data[1:3]"
      ]
    },
    {
      "cell_type": "markdown",
      "metadata": {
        "id": "jtK9K6PQN7tB"
      },
      "source": [
        "Because of this potential confusion in the case of integer indexes, Pandas provides some special *indexer* attributes that explicitly expose certain indexing schemes.\n",
        "These are not functional methods, but attributes that expose a particular slicing interface to the data in the ``Series``.\n",
        "\n",
        "First, the ``loc`` attribute allows indexing and slicing that always references the explicit index:"
      ]
    },
    {
      "cell_type": "code",
      "execution_count": null,
      "metadata": {
        "id": "5azNnApON7tB",
        "outputId": "e3f7ca8f-cdf1-4cf6-975c-0f81a30dc94d"
      },
      "outputs": [
        {
          "data": {
            "text/plain": [
              "'a'"
            ]
          },
          "execution_count": null,
          "metadata": {},
          "output_type": "execute_result"
        }
      ],
      "source": [
        "# access using explicit index\n",
        "data.loc[1]"
      ]
    },
    {
      "cell_type": "code",
      "execution_count": null,
      "metadata": {
        "id": "OlwPooK9N7tB",
        "outputId": "8caf47eb-3029-4862-9b96-7af8eee0f49a"
      },
      "outputs": [
        {
          "data": {
            "text/plain": [
              "1    a\n",
              "3    b\n",
              "dtype: object"
            ]
          },
          "execution_count": null,
          "metadata": {},
          "output_type": "execute_result"
        }
      ],
      "source": [
        "# Slice using explicit index\n",
        "data.loc[1:3]"
      ]
    },
    {
      "cell_type": "markdown",
      "metadata": {
        "id": "zfwiUSg4N7tB"
      },
      "source": [
        "The ``iloc`` attribute allows indexing and slicing that always references the implicit Python-style index:"
      ]
    },
    {
      "cell_type": "code",
      "execution_count": null,
      "metadata": {
        "id": "clQAlBvDN7tC",
        "outputId": "915210a3-004d-4b33-98d1-43d26c56375f"
      },
      "outputs": [
        {
          "data": {
            "text/plain": [
              "'b'"
            ]
          },
          "execution_count": null,
          "metadata": {},
          "output_type": "execute_result"
        }
      ],
      "source": [
        "# Accss using the implicit index\n",
        "data.iloc[1]"
      ]
    },
    {
      "cell_type": "code",
      "execution_count": null,
      "metadata": {
        "id": "zKFNcs8fN7tC",
        "outputId": "8039c9cf-73e3-48a5-c18a-fcd8ff77559b"
      },
      "outputs": [
        {
          "data": {
            "text/plain": [
              "3    b\n",
              "5    c\n",
              "dtype: object"
            ]
          },
          "execution_count": null,
          "metadata": {},
          "output_type": "execute_result"
        }
      ],
      "source": [
        "# Slice using the implicit index\n",
        "data.iloc[1:3]"
      ]
    },
    {
      "cell_type": "markdown",
      "metadata": {
        "id": "s4g50ymdN7tC"
      },
      "source": [
        "One guiding principle of Python code is that \"explicit is better than implicit.\"\n",
        "The explicit nature of ``loc`` and ``iloc`` make them very useful in maintaining clean and readable code; especially in the case of integer indexes, I recommend using these both to make code easier to read and understand, and to prevent subtle bugs due to the mixed indexing/slicing convention."
      ]
    },
    {
      "cell_type": "markdown",
      "metadata": {
        "id": "0y-4rDd0N7tC"
      },
      "source": [
        "## What we've learned in this lesson:\n",
        "\n",
        "1. Indexing and selection of `DataFrames` using:\n",
        "    - Bracket indexing\n",
        "    - `.iloc`\n",
        "    - `.loc`\n",
        "    - `.query`\n",
        "2. Quirks of dataframe indexing vs slicing\n",
        "3. Indexing and selection of `Series` using:\n",
        "    - Bracket indexing\n",
        "    - `.iloc`\n",
        "    - `.loc`"
      ]
    }
  ],
  "metadata": {
    "kernelspec": {
      "display_name": "Python 3",
      "language": "python",
      "name": "python3"
    },
    "colab": {
      "provenance": [],
      "include_colab_link": true
    }
  },
  "nbformat": 4,
  "nbformat_minor": 0
}